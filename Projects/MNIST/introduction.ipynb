{
 "cells": [
  {
   "cell_type": "markdown",
   "id": "fd6f7738",
   "metadata": {},
   "source": [
    "<center><h1>Supercyfry</h1></center>"
   ]
  },
  {
   "cell_type": "markdown",
   "id": "615f4530",
   "metadata": {},
   "source": [
    "<center><h4>Czyli opracowanie MNIST za pomocą klasycznych metod i sieci neuronowych z użyciem różnych bibliotek</h4></center>"
   ]
  },
  {
   "cell_type": "markdown",
   "id": "e0934792",
   "metadata": {},
   "source": [
    "<table style=\"margin-left: auto; margin-right: auto;\">\n",
    "    <tr>\n",
    "        <td><img src=\"./images/Cyfra_4.webp\" width=\"232px\"></td>\n",
    "        <td><img src=\"./images/Cyfra_5.webp\" width=\"200px\"></td>\n",
    "    </tr>\n",
    "    <tr>\n",
    "        <td><center>Wiktor Piórkowski</center></td>\n",
    "        <td><center>Joanna Zubik</center></td>\n",
    "    </tr>\n",
    "</table>"
   ]
  },
  {
   "cell_type": "markdown",
   "id": "19c3425d",
   "metadata": {},
   "source": [
    "MNIST database - Modified National Institute of Standards and Technology database "
   ]
  },
  {
   "cell_type": "markdown",
   "id": "0b7e3e6d",
   "metadata": {},
   "source": [
    "<center><img src=\"./images/MNIST_dataset_example.png\"></center>"
   ]
  },
  {
   "cell_type": "markdown",
   "id": "b40a0c50",
   "metadata": {},
   "source": [
    "<table style=\"margin-left: auto; margin-right: auto;\">\n",
    "    <tr>\n",
    "        <td><img src=\"./images/Scikit_learn_logo_small.svg.png\" width=\"300px\"></td>\n",
    "        <td><img src=\"./images/pytorch-e1576624094357.webp\" width=\"300px\"></td>\n",
    "        <td><img src=\"./images/images.png\" width=\"300px\"></td>\n",
    "    </tr>\n",
    "</table>"
   ]
  }
 ],
 "metadata": {
  "kernelspec": {
   "display_name": "Python 3 (ipykernel)",
   "language": "python",
   "name": "python3"
  },
  "language_info": {
   "codemirror_mode": {
    "name": "ipython",
    "version": 3
   },
   "file_extension": ".py",
   "mimetype": "text/x-python",
   "name": "python",
   "nbconvert_exporter": "python",
   "pygments_lexer": "ipython3",
   "version": "3.11.9"
  }
 },
 "nbformat": 4,
 "nbformat_minor": 5
}
